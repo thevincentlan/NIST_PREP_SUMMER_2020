{
 "cells": [
  {
   "cell_type": "markdown",
   "source": [
    "# NIST PREP Summer 2020"
   ],
   "metadata": {
    "collapsed": false
   }
  },
  {
   "cell_type": "markdown",
   "source": [
    "- This is a summary of my accomplishments in the NIST PREP program\n",
    "- Data was obtained from the Windover Group, NIST Gaithersburg"
   ],
   "metadata": {
    "collapsed": false
   }
  },
  {
   "cell_type": "markdown",
   "source": [
    "- loading standard Python packages and enabling plotting"
   ],
   "metadata": {
    "collapsed": false
   }
  },
  {
   "cell_type": "code",
   "execution_count": null,
   "outputs": [],
   "source": [
    "import os\n",
    "import numpy as np\n",
    "import matplotlib.pyplot as plt\n",
    "%matplotlib inline"
   ],
   "metadata": {
    "collapsed": false,
    "pycharm": {
     "name": "#%%\n"
    }
   }
  },
  {
   "cell_type": "markdown",
   "source": [
    "- include custom gaussian for simple gaussian fits\n",
    "- include custom bruker_io toolbox\n",
    "- include custom Spectrum_Evaluation toolbox\n",
    "- include HyperSpy for peak fitting\n"
   ],
   "metadata": {
    "collapsed": false
   }
  },
  {
   "cell_type": "code",
   "execution_count": null,
   "outputs": [],
   "source": [
    "import gaussian\n",
    "import bruker_io\n",
    "import spectrum_evaluation as se\n",
    "import hyperspy.api as hs\n"
   ],
   "metadata": {
    "collapsed": false,
    "pycharm": {
     "name": "#%%\n"
    }
   }
  },
  {
   "cell_type": "markdown",
   "source": [
    "- import XRF data from a *.txt"
   ],
   "metadata": {
    "collapsed": false
   }
  },
  {
   "cell_type": "code",
   "execution_count": null,
   "outputs": [],
   "source": [
    "Mo_acryl_directory = os.path.join('Acrylic', '20170510_D1_Mo_50kv_100mA_acryl 0_python.txt')\n",
    "Mo_acryl = bruker_io.FittingData(Mo_acryl_directory)\n",
    "bruker_io.bruker_txt_import(Mo_acryl)"
   ],
   "metadata": {
    "collapsed": false,
    "pycharm": {
     "name": "#%%\n"
    }
   }
  },
  {
   "cell_type": "markdown",
   "source": [
    "- plot spectrum data from *.txt file"
   ],
   "metadata": {
    "collapsed": false
   }
  },
  {
   "cell_type": "code",
   "execution_count": null,
   "outputs": [],
   "source": [
    "fig = plt.figure(num=None, figsize=(7, 3), dpi=80, facecolor='w', edgecolor='k')\n",
    "plt.plot(Mo_acryl.energy_scale, Mo_acryl.channels)\n",
    "fig.suptitle('Mo 50keV Acrylic')\n",
    "plt.xlabel('Energy (keV)')\n",
    "plt.ylabel('Counts')\n",
    "plt.show()"
   ],
   "metadata": {
    "collapsed": false,
    "pycharm": {
     "name": "#%%\n"
    }
   }
  },
  {
   "cell_type": "markdown",
   "source": [
    "- import XRF data from a *.spx file"
   ],
   "metadata": {
    "collapsed": false
   }
  },
  {
   "cell_type": "code",
   "execution_count": null,
   "outputs": [],
   "source": [
    "Ti_directory = os.path.join('Trials', 'Element B Ti.spx')\n",
    "Ti = bruker_io.FittingData(Ti_directory)\n",
    "bruker_io.bruker_spx_import(Ti)"
   ],
   "metadata": {
    "collapsed": false,
    "pycharm": {
     "name": "#%%\n"
    }
   }
  },
  {
   "cell_type": "markdown",
   "source": [
    "- plot spectrum data from *.spx file"
   ],
   "metadata": {
    "collapsed": false
   }
  },
  {
   "cell_type": "code",
   "execution_count": null,
   "outputs": [],
   "source": [
    "fig = plt.figure(num=None, figsize=(7, 3), dpi=80, facecolor='w', edgecolor='k')\n",
    "plt.plot(Ti.energy_scale, Ti.channels)\n",
    "fig.suptitle('Element B Ti')\n",
    "plt.xlabel('Energy (keV)')\n",
    "plt.ylabel('Counts')\n",
    "plt.xlim(0, 10)\n",
    "plt.show()"
   ],
   "metadata": {
    "collapsed": false,
    "pycharm": {
     "name": "#%%\n"
    }
   }
  },
  {
   "cell_type": "markdown",
   "source": [
    "- plot spectrum data with peak lines using hyperspy from a *.spx file"
   ],
   "metadata": {
    "collapsed": false
   }
  },
  {
   "cell_type": "code",
   "execution_count": null,
   "outputs": [],
   "source": [
    "Ti_XRF = hs.signals.EDSSEMSpectrum(Ti.channels)\n",
    "Ti_XRF.set_microscope_parameters(50000)\n",
    "Ti_XRF.axes_manager[0].name = 'XRF spectra'\n",
    "Ti_XRF.axes_manager[0].offset = Ti.calibration_abs\n",
    "Ti_XRF.axes_manager[0].scale = Ti.calibration_lin\n",
    "Ti_XRF.axes_manager[0].units = 'eV'\n",
    "Ti_XRF.add_elements(['Ti'])\n",
    "Ti_XRF.crop_signal1D(0, 800)\n",
    "Ti_XRF.plot(True)"
   ],
   "metadata": {
    "collapsed": false,
    "pycharm": {
     "name": "#%%\n"
    }
   }
  },
  {
   "cell_type": "markdown",
   "source": [
    "- fit a gaussian to a specific peak in a sample"
   ],
   "metadata": {
    "collapsed": false
   }
  },
  {
   "cell_type": "code",
   "execution_count": null,
   "outputs": [],
   "source": [
    "gaussian.glass(\"2_5_3\", 453, 480)"
   ],
   "metadata": {
    "collapsed": false,
    "pycharm": {
     "name": "#%%\n"
    }
   }
  },
  {
   "cell_type": "markdown",
   "source": [
    "- use spectrum evaluation to fit a sample"
   ],
   "metadata": {
    "collapsed": false
   }
  },
  {
   "cell_type": "code",
   "execution_count": null,
   "outputs": [],
   "source": [
    "elements = ['Na', 'Mg', 'Al', 'Si', 'S', 'K', 'Ca', 'Ti', 'Fe', 'Sr', 'Rh']\n",
    "directory = os.path.join('Glass', 'Map')\n",
    "ROI, model = se.spectra_fit(directory, \"leastsq\", \"ls\", elements)\n"
   ],
   "metadata": {
    "collapsed": false,
    "pycharm": {
     "name": "#%%\n"
    }
   }
  },
  {
   "cell_type": "markdown",
   "source": [
    "- demonstrating spectra fit with plots"
   ],
   "metadata": {
    "collapsed": false
   }
  },
  {
   "cell_type": "code",
   "execution_count": null,
   "outputs": [],
   "source": [
    "elements = ['Bi']\n",
    "directory = os.path.join('Trials', 'SE')\n",
    "directory_path = directory\n",
    "fitter = \"leastsq\"\n",
    "method = \"ls\"\n",
    "files = []\n",
    "spx_files = []\n",
    "roi_data = elements\n",
    "model_data = elements\n",
    "print(elements)\n",
    "life_time_in_ms = []\n",
    "for (dirpath, dirnames, filenames) in os.walk(directory_path):\n",
    "    files.extend(filenames)\n",
    "    break\n",
    "for file in files:\n",
    "    if '.spx' in file:\n",
    "        spx_files.append(file)"
   ],
   "metadata": {
    "collapsed": false,
    "pycharm": {
     "name": "#%%\n"
    }
   }
  },
  {
   "cell_type": "markdown",
   "source": [
    "- plotting the hsEDS values"
   ],
   "metadata": {
    "collapsed": false
   }
  },
  {
   "cell_type": "code",
   "execution_count": null,
   "outputs": [],
   "source": [
    "for file in spx_files:\n",
    "    print(file)\n",
    "    spx_file = file\n",
    "    spx = bruker_io.FittingData(directory_path + '/' + spx_file)\n",
    "    bruker_io.bruker_spx_import(spx)\n",
    "    se.pulse_pileup_removal(spx)\n",
    "    se.SCALEDSNIP(spx)\n",
    "    se.polycap_remove(spx)\n",
    "    hsEDS = hs.signals.EDSSEMSpectrum(spx.channels)\n",
    "    hsEDS.set_microscope_parameters(50000)\n",
    "    hsEDS.axes_manager[0].name = 'XRF spectra'\n",
    "    hsEDS.axes_manager[0].offset = spx.calibration_abs\n",
    "    hsEDS.axes_manager[0].scale = spx.calibration_lin\n",
    "    hsEDS.axes_manager[0].units = 'eV'\n",
    "    hsEDS.add_elements(elements)\n",
    "    hsEDS.add_lines()\n",
    "    line_names = hsEDS.metadata.Sample.xray_lines\n",
    "    hsEDS.crop_signal1D(800, 1500)\n",
    "    hsEDS.plot(True)"
   ],
   "metadata": {
    "collapsed": false,
    "pycharm": {
     "name": "#%%\n"
    }
   }
  },
  {
   "cell_type": "markdown",
   "source": [
    "- plotting the model data"
   ],
   "metadata": {
    "collapsed": false
   }
  },
  {
   "cell_type": "code",
   "execution_count": null,
   "outputs": [],
   "source": [
    "    mod = hsEDS.create_model()\n",
    "    mod.remove('background_order_6')\n",
    "    new_roi = np.zeros(len(elements))\n",
    "    new_model = np.zeros(len(elements))\n",
    "    mod.fit(fitter=fitter, method=method)\n",
    "    for i in np.arange(len(elements)):\n",
    "        new_roi[i] = np.float(hsEDS.get_lines_intensity([line_names[i]])[0].data[0])\n",
    "        model_call = ''.join(['mod.components.', line_names[i], '.A.value'])\n",
    "        new_model[i] = eval(model_call)\n",
    "        # test_param[i] = ''.join(['mod.components.', line_names[i], '.A.value'])\n",
    "        # new_model[i]= np.float(test_param)\n",
    "    # Hf_La_model.append(np.float())\n",
    "    # Si_Ka_model.append(np.float(mod.components.Si_Ka.A.value))\n",
    "    # Hf_Si_ratio.append(np.float(mod.components.Hf_La.A.value)/np.float(mod.components.Si_Ka.A.value))\n",
    "    life_time_in_ms.append(spx.life_time_in_ms)\n",
    "    roi_data = np.vstack((roi_data, new_roi))\n",
    "    model_data = np.vstack((model_data, new_model))\n",
    "\n",
    "    mod.plot()\n"
   ],
   "metadata": {
    "collapsed": false,
    "pycharm": {
     "name": "#%%\n"
    }
   }
  },
  {
   "cell_type": "markdown",
   "source": [
    "- discover identity of unknown samples"
   ],
   "metadata": {
    "collapsed": false
   }
  },
  {
   "cell_type": "code",
   "execution_count": null,
   "outputs": [],
   "source": [
    "    for i in range (1, 6):\n",
    "        elements = ['S','Ca', 'Ti', 'Fe', 'Cr', 'Ni', 'As', 'Kr', 'Mo']\n",
    "        UNK_directory = os.path.join('Unknown', '20200807_unknown_' + str(i) + '.spx')\n",
    "        UNK = bruker_io.FittingData(UNK_directory)\n",
    "        bruker_io.bruker_spx_import(UNK)\n",
    "        UNK_XRF = hs.signals.EDSSEMSpectrum(UNK.channels)\n",
    "        UNK_XRF.set_microscope_parameters(50000)\n",
    "        UNK_XRF.axes_manager[0].name = 'XRF spectra'\n",
    "        UNK_XRF.axes_manager[0].offset = UNK.calibration_abs\n",
    "        UNK_XRF.axes_manager[0].scale = UNK.calibration_lin\n",
    "        UNK_XRF.axes_manager[0].units = 'eV'\n",
    "        UNK_XRF.add_elements(elements)\n",
    "        UNK_XRF.crop_signal1D(300, 2300)\n",
    "        UNK_XRF.plot(True)"
   ],
   "metadata": {
    "collapsed": false,
    "pycharm": {
     "name": "#%%\n"
    }
   }
  },
  {
   "cell_type": "markdown",
   "source": [
    "- Use the NIST-DTSA II software to determine unknown spectra peaks"
   ],
   "metadata": {
    "collapsed": false,
    "pycharm": {
     "name": "#%% md\n"
    }
   }
  },
  {
   "cell_type": "code",
   "execution_count": null,
   "outputs": [],
   "source": [
    "from IPython.display import Image\n",
    "Image(filename='Images/unknowns.png')\n"
   ],
   "metadata": {
    "collapsed": false,
    "pycharm": {
     "name": "#%%\n"
    }
   }
  }
 ],
 "metadata": {
  "kernelspec": {
   "name": "python3",
   "language": "python",
   "display_name": "Python 3"
  },
  "language_info": {
   "codemirror_mode": {
    "name": "ipython",
    "version": 2
   },
   "file_extension": ".py",
   "mimetype": "text/x-python",
   "name": "python",
   "nbconvert_exporter": "python",
   "pygments_lexer": "ipython2",
   "version": "2.7.6"
  }
 },
 "nbformat": 4,
 "nbformat_minor": 0
}